{
 "cells": [
  {
   "cell_type": "code",
   "execution_count": 1,
   "id": "0ce25195",
   "metadata": {
    "_cell_guid": "b1076dfc-b9ad-4769-8c92-a6c4dae69d19",
    "_uuid": "8f2839f25d086af736a60e9eeb907d3b93b6e0e5",
    "execution": {
     "iopub.execute_input": "2021-10-15T10:38:23.560659Z",
     "iopub.status.busy": "2021-10-15T10:38:23.558904Z",
     "iopub.status.idle": "2021-10-15T10:38:24.697560Z",
     "shell.execute_reply": "2021-10-15T10:38:24.696807Z",
     "shell.execute_reply.started": "2021-10-15T10:35:33.417225Z"
    },
    "papermill": {
     "duration": 1.171486,
     "end_time": "2021-10-15T10:38:24.697759",
     "exception": false,
     "start_time": "2021-10-15T10:38:23.526273",
     "status": "completed"
    },
    "tags": []
   },
   "outputs": [
    {
     "name": "stdout",
     "output_type": "stream",
     "text": [
      "/kaggle/input/neolen-house-price-prediction/sample_submission.csv\n",
      "/kaggle/input/neolen-house-price-prediction/data_description.txt\n",
      "/kaggle/input/neolen-house-price-prediction/train.csv\n",
      "/kaggle/input/neolen-house-price-prediction/test.csv\n",
      "/kaggle/input/neolen-house-price-prediction/house-prices-advanced-regression-techniques.zip\n"
     ]
    }
   ],
   "source": [
    "# This Python 3 environment comes with many helpful analytics libraries installed\n",
    "# It is defined by the kaggle/python Docker image: https://github.com/kaggle/docker-python\n",
    "# For example, here's several helpful packages to load\n",
    "\n",
    "import numpy as np # linear algebra\n",
    "import pandas as pd # data processing, CSV file I/O (e.g. pd.read_csv)\n",
    "from sklearn.preprocessing import LabelEncoder\n",
    "from sklearn.compose import ColumnTransformer\n",
    "from sklearn.preprocessing import StandardScaler, MinMaxScaler, RobustScaler\n",
    "from xgboost import XGBRegressor\n",
    "\n",
    "# Input data files are available in the read-only \"../input/\" directory\n",
    "# For example, running this (by clicking run or pressing Shift+Enter) will list all files under the input directory\n",
    "\n",
    "import os\n",
    "for dirname, _, filenames in os.walk('/kaggle/input'):\n",
    "    for filename in filenames:\n",
    "        print(os.path.join(dirname, filename))\n",
    "\n",
    "# You can write up to 20GB to the current directory (/kaggle/working/) that gets preserved as output when you create a version using \"Save & Run All\" \n",
    "# You can also write temporary files to /kaggle/temp/, but they won't be saved outside of the current session"
   ]
  },
  {
   "cell_type": "code",
   "execution_count": 2,
   "id": "54d1db38",
   "metadata": {
    "execution": {
     "iopub.execute_input": "2021-10-15T10:38:24.744601Z",
     "iopub.status.busy": "2021-10-15T10:38:24.743898Z",
     "iopub.status.idle": "2021-10-15T10:38:24.809142Z",
     "shell.execute_reply": "2021-10-15T10:38:24.808511Z",
     "shell.execute_reply.started": "2021-10-15T10:35:33.592629Z"
    },
    "papermill": {
     "duration": 0.089509,
     "end_time": "2021-10-15T10:38:24.809331",
     "exception": false,
     "start_time": "2021-10-15T10:38:24.719822",
     "status": "completed"
    },
    "tags": []
   },
   "outputs": [],
   "source": [
    "# Read csv files. And keep a copy of the original dataframes. tran_df and test_df will be used throughout this notebook for preprocessing and scaling.we need original test dataframe in the end \n",
    "or_train_df = pd.read_csv('/kaggle/input/neolen-house-price-prediction/train.csv')\n",
    "or_test_df = pd.read_csv('/kaggle/input/neolen-house-price-prediction/test.csv')\n",
    "\n",
    "train_df = or_train_df\n",
    "test_df = or_test_df"
   ]
  },
  {
   "cell_type": "code",
   "execution_count": 3,
   "id": "ac8584d3",
   "metadata": {
    "execution": {
     "iopub.execute_input": "2021-10-15T10:38:24.864002Z",
     "iopub.status.busy": "2021-10-15T10:38:24.855323Z",
     "iopub.status.idle": "2021-10-15T10:38:24.869688Z",
     "shell.execute_reply": "2021-10-15T10:38:24.870226Z",
     "shell.execute_reply.started": "2021-10-15T10:35:33.767136Z"
    },
    "papermill": {
     "duration": 0.040089,
     "end_time": "2021-10-15T10:38:24.870431",
     "exception": false,
     "start_time": "2021-10-15T10:38:24.830342",
     "status": "completed"
    },
    "tags": []
   },
   "outputs": [],
   "source": [
    "# Dropping 'Id' column as it has no use in training\n",
    "train_df = train_df.drop(['Id'], axis=1)\n",
    "test_df = test_df.drop(['Id'], axis=1)"
   ]
  },
  {
   "cell_type": "code",
   "execution_count": 4,
   "id": "b0534986",
   "metadata": {
    "execution": {
     "iopub.execute_input": "2021-10-15T10:38:24.917098Z",
     "iopub.status.busy": "2021-10-15T10:38:24.916099Z",
     "iopub.status.idle": "2021-10-15T10:38:24.921376Z",
     "shell.execute_reply": "2021-10-15T10:38:24.921927Z",
     "shell.execute_reply.started": "2021-10-15T10:35:35.552967Z"
    },
    "papermill": {
     "duration": 0.02991,
     "end_time": "2021-10-15T10:38:24.922096",
     "exception": false,
     "start_time": "2021-10-15T10:38:24.892186",
     "status": "completed"
    },
    "tags": []
   },
   "outputs": [
    {
     "name": "stdout",
     "output_type": "stream",
     "text": [
      "Shape of train set: (1259, 80)\n",
      "Shape of test set: (201, 79)\n"
     ]
    }
   ],
   "source": [
    "print(f\"Shape of train set: {train_df.shape}\")\n",
    "print(f\"Shape of test set: {test_df.shape}\")"
   ]
  },
  {
   "cell_type": "markdown",
   "id": "8087c8cd",
   "metadata": {
    "papermill": {
     "duration": 0.020073,
     "end_time": "2021-10-15T10:38:24.963088",
     "exception": false,
     "start_time": "2021-10-15T10:38:24.943015",
     "status": "completed"
    },
    "tags": []
   },
   "source": [
    "## Replace NaNs\n",
    "**While replacing we have to make sure to replace it with '0' (character) in case of a string column and 0 (number) if otherwise**"
   ]
  },
  {
   "cell_type": "code",
   "execution_count": 5,
   "id": "e56f1214",
   "metadata": {
    "execution": {
     "iopub.execute_input": "2021-10-15T10:38:25.013999Z",
     "iopub.status.busy": "2021-10-15T10:38:25.006547Z",
     "iopub.status.idle": "2021-10-15T10:38:25.098342Z",
     "shell.execute_reply": "2021-10-15T10:38:25.098910Z",
     "shell.execute_reply.started": "2021-10-15T10:35:35.885927Z"
    },
    "papermill": {
     "duration": 0.11544,
     "end_time": "2021-10-15T10:38:25.099093",
     "exception": false,
     "start_time": "2021-10-15T10:38:24.983653",
     "status": "completed"
    },
    "tags": []
   },
   "outputs": [],
   "source": [
    "str_columns = []\n",
    "num_columns = []\n",
    "\n",
    "def convert_to_str(df):\n",
    "    for col in df.columns:\n",
    "        if (df[col].dtype == np.int64 or df[col].dtype == np.float64):\n",
    "            df[col] = df[col].fillna(method='ffill')\n",
    "            if col not in num_columns:\n",
    "                num_columns.append(col)\n",
    "        else:\n",
    "            df[col] = df[col].fillna(method='ffill')\n",
    "            if col not in str_columns:\n",
    "                str_columns.append(col)\n",
    "    return df\n",
    "\n",
    "train_df = convert_to_str(train_df)\n",
    "test_df = convert_to_str(test_df)"
   ]
  },
  {
   "cell_type": "code",
   "execution_count": 6,
   "id": "a2cf433d",
   "metadata": {
    "execution": {
     "iopub.execute_input": "2021-10-15T10:38:25.162572Z",
     "iopub.status.busy": "2021-10-15T10:38:25.142823Z",
     "iopub.status.idle": "2021-10-15T10:38:25.167492Z",
     "shell.execute_reply": "2021-10-15T10:38:25.168013Z",
     "shell.execute_reply.started": "2021-10-15T10:35:37.670259Z"
    },
    "papermill": {
     "duration": 0.048725,
     "end_time": "2021-10-15T10:38:25.168205",
     "exception": false,
     "start_time": "2021-10-15T10:38:25.119480",
     "status": "completed"
    },
    "tags": []
   },
   "outputs": [],
   "source": [
    "train_df['type'] = 'train'\n",
    "test_df['type'] = 'test'\n",
    "\n",
    "# Add a dummy SalePrice column to test dataframe to make number of columns equal \n",
    "test_df['SalePrice'] = train_df['SalePrice'].iloc[:201]\n",
    "\n",
    "df = train_df.append(test_df, ignore_index=True)"
   ]
  },
  {
   "cell_type": "code",
   "execution_count": 7,
   "id": "b9db3ed9",
   "metadata": {
    "execution": {
     "iopub.execute_input": "2021-10-15T10:38:25.221658Z",
     "iopub.status.busy": "2021-10-15T10:38:25.220574Z",
     "iopub.status.idle": "2021-10-15T10:38:25.551479Z",
     "shell.execute_reply": "2021-10-15T10:38:25.550858Z",
     "shell.execute_reply.started": "2021-10-15T10:15:03.120126Z"
    },
    "papermill": {
     "duration": 0.360664,
     "end_time": "2021-10-15T10:38:25.551641",
     "exception": false,
     "start_time": "2021-10-15T10:38:25.190977",
     "status": "completed"
    },
    "tags": []
   },
   "outputs": [],
   "source": [
    "for col in str_columns:\n",
    "    one_hot = pd.get_dummies(df[col])\n",
    "\n",
    "    replace_cols = {}\n",
    "    for one_col in one_hot.columns:\n",
    "        replace_cols[one_col] = f\"{col}_{one_col}\"\n",
    "    one_hot = one_hot.rename(columns=replace_cols)\n",
    "\n",
    "    df = df.drop(col, axis = 1)\n",
    "    df = df.join(one_hot)"
   ]
  },
  {
   "cell_type": "code",
   "execution_count": 8,
   "id": "913ba4e9",
   "metadata": {
    "execution": {
     "iopub.execute_input": "2021-10-15T10:38:25.601267Z",
     "iopub.status.busy": "2021-10-15T10:38:25.597150Z",
     "iopub.status.idle": "2021-10-15T10:38:25.612338Z",
     "shell.execute_reply": "2021-10-15T10:38:25.611550Z",
     "shell.execute_reply.started": "2021-10-15T10:15:03.506690Z"
    },
    "papermill": {
     "duration": 0.039862,
     "end_time": "2021-10-15T10:38:25.612498",
     "exception": false,
     "start_time": "2021-10-15T10:38:25.572636",
     "status": "completed"
    },
    "tags": []
   },
   "outputs": [],
   "source": [
    "train_df = df[df['type'] == 'train']\n",
    "test_df = df[df['type'] == 'test']\n",
    "\n",
    "train_df = train_df.drop(['type'], axis=1)\n",
    "test_df = test_df.drop(['type'], axis=1)\n",
    "\n",
    "test_df = test_df.reset_index(drop=True)"
   ]
  },
  {
   "cell_type": "code",
   "execution_count": 9,
   "id": "151049e0",
   "metadata": {
    "execution": {
     "iopub.execute_input": "2021-10-15T10:38:25.660222Z",
     "iopub.status.busy": "2021-10-15T10:38:25.659388Z",
     "iopub.status.idle": "2021-10-15T10:38:25.663861Z",
     "shell.execute_reply": "2021-10-15T10:38:25.664567Z",
     "shell.execute_reply.started": "2021-10-15T10:15:06.039899Z"
    },
    "papermill": {
     "duration": 0.031168,
     "end_time": "2021-10-15T10:38:25.664811",
     "exception": false,
     "start_time": "2021-10-15T10:38:25.633643",
     "status": "completed"
    },
    "tags": []
   },
   "outputs": [
    {
     "name": "stdout",
     "output_type": "stream",
     "text": [
      "Shape of train set: (1259, 289)\n",
      "Shape of test set: (201, 289)\n"
     ]
    }
   ],
   "source": [
    "print(f\"Shape of train set: {train_df.shape}\")\n",
    "print(f\"Shape of test set: {test_df.shape}\")"
   ]
  },
  {
   "cell_type": "markdown",
   "id": "99fa3eba",
   "metadata": {
    "papermill": {
     "duration": 0.020631,
     "end_time": "2021-10-15T10:38:25.707978",
     "exception": false,
     "start_time": "2021-10-15T10:38:25.687347",
     "status": "completed"
    },
    "tags": []
   },
   "source": [
    "## Standardization of values"
   ]
  },
  {
   "cell_type": "code",
   "execution_count": 10,
   "id": "feca186a",
   "metadata": {
    "execution": {
     "iopub.execute_input": "2021-10-15T10:38:25.759761Z",
     "iopub.status.busy": "2021-10-15T10:38:25.758629Z",
     "iopub.status.idle": "2021-10-15T10:38:25.770403Z",
     "shell.execute_reply": "2021-10-15T10:38:25.770922Z",
     "shell.execute_reply.started": "2021-10-15T10:15:07.743732Z"
    },
    "papermill": {
     "duration": 0.042257,
     "end_time": "2021-10-15T10:38:25.771122",
     "exception": false,
     "start_time": "2021-10-15T10:38:25.728865",
     "status": "completed"
    },
    "tags": []
   },
   "outputs": [
    {
     "data": {
      "text/plain": [
       "StandardScaler()"
      ]
     },
     "execution_count": 10,
     "metadata": {},
     "output_type": "execute_result"
    }
   ],
   "source": [
    "scaler = StandardScaler()\n",
    "scaler.fit(train_df[num_columns])"
   ]
  },
  {
   "cell_type": "code",
   "execution_count": 11,
   "id": "575c402c",
   "metadata": {
    "execution": {
     "iopub.execute_input": "2021-10-15T10:38:25.819855Z",
     "iopub.status.busy": "2021-10-15T10:38:25.819117Z",
     "iopub.status.idle": "2021-10-15T10:38:25.854718Z",
     "shell.execute_reply": "2021-10-15T10:38:25.854022Z",
     "shell.execute_reply.started": "2021-10-15T10:15:10.072746Z"
    },
    "papermill": {
     "duration": 0.061411,
     "end_time": "2021-10-15T10:38:25.854921",
     "exception": false,
     "start_time": "2021-10-15T10:38:25.793510",
     "status": "completed"
    },
    "tags": []
   },
   "outputs": [],
   "source": [
    "train_df[num_columns] = scaler.transform(train_df[num_columns])\n",
    "test_df[num_columns] = scaler.transform(test_df[num_columns])"
   ]
  },
  {
   "cell_type": "code",
   "execution_count": 12,
   "id": "5105447c",
   "metadata": {
    "execution": {
     "iopub.execute_input": "2021-10-15T10:38:25.903968Z",
     "iopub.status.busy": "2021-10-15T10:38:25.902946Z",
     "iopub.status.idle": "2021-10-15T10:38:25.909892Z",
     "shell.execute_reply": "2021-10-15T10:38:25.909271Z",
     "shell.execute_reply.started": "2021-10-15T10:15:12.033344Z"
    },
    "papermill": {
     "duration": 0.032277,
     "end_time": "2021-10-15T10:38:25.910060",
     "exception": false,
     "start_time": "2021-10-15T10:38:25.877783",
     "status": "completed"
    },
    "tags": []
   },
   "outputs": [
    {
     "name": "stdout",
     "output_type": "stream",
     "text": [
      "Shape of train set: (1259, 289)\n",
      "Shape of test set: (201, 289)\n"
     ]
    }
   ],
   "source": [
    "print(f\"Shape of train set: {train_df.shape}\")\n",
    "print(f\"Shape of test set: {test_df.shape}\")"
   ]
  },
  {
   "cell_type": "code",
   "execution_count": 13,
   "id": "65cc21f0",
   "metadata": {
    "execution": {
     "iopub.execute_input": "2021-10-15T10:38:25.962008Z",
     "iopub.status.busy": "2021-10-15T10:38:25.960268Z",
     "iopub.status.idle": "2021-10-15T10:38:25.964904Z",
     "shell.execute_reply": "2021-10-15T10:38:25.965372Z",
     "shell.execute_reply.started": "2021-10-15T10:15:14.070790Z"
    },
    "papermill": {
     "duration": 0.033427,
     "end_time": "2021-10-15T10:38:25.965550",
     "exception": false,
     "start_time": "2021-10-15T10:38:25.932123",
     "status": "completed"
    },
    "tags": []
   },
   "outputs": [],
   "source": [
    "test_df = test_df.drop(['SalePrice'], axis=1)"
   ]
  },
  {
   "cell_type": "code",
   "execution_count": 14,
   "id": "d61e2809",
   "metadata": {
    "execution": {
     "iopub.execute_input": "2021-10-15T10:38:26.016816Z",
     "iopub.status.busy": "2021-10-15T10:38:26.015687Z",
     "iopub.status.idle": "2021-10-15T10:38:26.021588Z",
     "shell.execute_reply": "2021-10-15T10:38:26.021069Z",
     "shell.execute_reply.started": "2021-10-15T10:15:16.399637Z"
    },
    "papermill": {
     "duration": 0.034376,
     "end_time": "2021-10-15T10:38:26.021755",
     "exception": false,
     "start_time": "2021-10-15T10:38:25.987379",
     "status": "completed"
    },
    "tags": []
   },
   "outputs": [],
   "source": [
    "train_labels = train_df['SalePrice']\n",
    "train_data = train_df.drop(['SalePrice'], axis=1)"
   ]
  },
  {
   "cell_type": "markdown",
   "id": "f2e0b4c5",
   "metadata": {
    "papermill": {
     "duration": 0.021831,
     "end_time": "2021-10-15T10:38:26.065964",
     "exception": false,
     "start_time": "2021-10-15T10:38:26.044133",
     "status": "completed"
    },
    "tags": []
   },
   "source": [
    "## XGBoost regressor model "
   ]
  },
  {
   "cell_type": "code",
   "execution_count": 15,
   "id": "9c58126a",
   "metadata": {
    "execution": {
     "iopub.execute_input": "2021-10-15T10:38:26.115989Z",
     "iopub.status.busy": "2021-10-15T10:38:26.115358Z",
     "iopub.status.idle": "2021-10-15T10:38:26.118419Z",
     "shell.execute_reply": "2021-10-15T10:38:26.118893Z",
     "shell.execute_reply.started": "2021-10-15T10:15:16.982798Z"
    },
    "papermill": {
     "duration": 0.031295,
     "end_time": "2021-10-15T10:38:26.119069",
     "exception": false,
     "start_time": "2021-10-15T10:38:26.087774",
     "status": "completed"
    },
    "tags": []
   },
   "outputs": [],
   "source": [
    "model = XGBRegressor(n_estimators=1000, max_depth=7, eta=0.1, subsample=0.7, colsample_bytree=0.8)"
   ]
  },
  {
   "cell_type": "code",
   "execution_count": 16,
   "id": "9dd5f330",
   "metadata": {
    "execution": {
     "iopub.execute_input": "2021-10-15T10:38:26.175084Z",
     "iopub.status.busy": "2021-10-15T10:38:26.174423Z",
     "iopub.status.idle": "2021-10-15T10:38:32.698219Z",
     "shell.execute_reply": "2021-10-15T10:38:32.697436Z",
     "shell.execute_reply.started": "2021-10-15T10:15:17.304227Z"
    },
    "papermill": {
     "duration": 6.557127,
     "end_time": "2021-10-15T10:38:32.698373",
     "exception": false,
     "start_time": "2021-10-15T10:38:26.141246",
     "status": "completed"
    },
    "tags": []
   },
   "outputs": [
    {
     "data": {
      "text/plain": [
       "XGBRegressor(base_score=0.5, booster='gbtree', colsample_bylevel=1,\n",
       "             colsample_bynode=1, colsample_bytree=0.8, eta=0.1, gamma=0,\n",
       "             gpu_id=-1, importance_type='gain', interaction_constraints='',\n",
       "             learning_rate=0.100000001, max_delta_step=0, max_depth=7,\n",
       "             min_child_weight=1, missing=nan, monotone_constraints='()',\n",
       "             n_estimators=1000, n_jobs=4, num_parallel_tree=1, random_state=0,\n",
       "             reg_alpha=0, reg_lambda=1, scale_pos_weight=1, subsample=0.7,\n",
       "             tree_method='exact', validate_parameters=1, verbosity=None)"
      ]
     },
     "execution_count": 16,
     "metadata": {},
     "output_type": "execute_result"
    }
   ],
   "source": [
    "model.fit(train_data, train_labels)"
   ]
  },
  {
   "cell_type": "code",
   "execution_count": 17,
   "id": "2f22b7a2",
   "metadata": {
    "execution": {
     "iopub.execute_input": "2021-10-15T10:38:32.753152Z",
     "iopub.status.busy": "2021-10-15T10:38:32.747171Z",
     "iopub.status.idle": "2021-10-15T10:38:32.757039Z",
     "shell.execute_reply": "2021-10-15T10:38:32.757541Z",
     "shell.execute_reply.started": "2021-10-15T10:15:25.388784Z"
    },
    "papermill": {
     "duration": 0.037055,
     "end_time": "2021-10-15T10:38:32.757757",
     "exception": false,
     "start_time": "2021-10-15T10:38:32.720702",
     "status": "completed"
    },
    "tags": []
   },
   "outputs": [],
   "source": [
    "predictions = model.predict(test_df)"
   ]
  },
  {
   "cell_type": "code",
   "execution_count": 18,
   "id": "974b770e",
   "metadata": {
    "execution": {
     "iopub.execute_input": "2021-10-15T10:38:32.813197Z",
     "iopub.status.busy": "2021-10-15T10:38:32.812488Z",
     "iopub.status.idle": "2021-10-15T10:38:32.824330Z",
     "shell.execute_reply": "2021-10-15T10:38:32.824883Z",
     "shell.execute_reply.started": "2021-10-15T10:15:25.402296Z"
    },
    "papermill": {
     "duration": 0.042158,
     "end_time": "2021-10-15T10:38:32.825103",
     "exception": false,
     "start_time": "2021-10-15T10:38:32.782945",
     "status": "completed"
    },
    "tags": []
   },
   "outputs": [],
   "source": [
    "test_df['SalePrice'] = predictions\n",
    "test_df[num_columns] = scaler.inverse_transform(test_df[num_columns])\n",
    "test_df = pd.DataFrame(test_df, columns=train_df.columns)"
   ]
  },
  {
   "cell_type": "code",
   "execution_count": 19,
   "id": "aa7995e9",
   "metadata": {
    "execution": {
     "iopub.execute_input": "2021-10-15T10:38:32.874606Z",
     "iopub.status.busy": "2021-10-15T10:38:32.873983Z",
     "iopub.status.idle": "2021-10-15T10:38:32.880046Z",
     "shell.execute_reply": "2021-10-15T10:38:32.880514Z",
     "shell.execute_reply.started": "2021-10-15T10:15:25.425840Z"
    },
    "papermill": {
     "duration": 0.032481,
     "end_time": "2021-10-15T10:38:32.880716",
     "exception": false,
     "start_time": "2021-10-15T10:38:32.848235",
     "status": "completed"
    },
    "tags": []
   },
   "outputs": [],
   "source": [
    "# Create results dataframe\n",
    "results = pd.DataFrame()\n",
    "results['Id'] = or_test_df['Id']\n",
    "results['SalePrice'] = test_df['SalePrice']"
   ]
  },
  {
   "cell_type": "code",
   "execution_count": 20,
   "id": "9bcd8b6f",
   "metadata": {
    "execution": {
     "iopub.execute_input": "2021-10-15T10:38:32.930704Z",
     "iopub.status.busy": "2021-10-15T10:38:32.929740Z",
     "iopub.status.idle": "2021-10-15T10:38:32.943633Z",
     "shell.execute_reply": "2021-10-15T10:38:32.944158Z",
     "shell.execute_reply.started": "2021-10-15T10:15:29.844838Z"
    },
    "papermill": {
     "duration": 0.040336,
     "end_time": "2021-10-15T10:38:32.944366",
     "exception": false,
     "start_time": "2021-10-15T10:38:32.904030",
     "status": "completed"
    },
    "tags": []
   },
   "outputs": [
    {
     "data": {
      "text/html": [
       "<div>\n",
       "<style scoped>\n",
       "    .dataframe tbody tr th:only-of-type {\n",
       "        vertical-align: middle;\n",
       "    }\n",
       "\n",
       "    .dataframe tbody tr th {\n",
       "        vertical-align: top;\n",
       "    }\n",
       "\n",
       "    .dataframe thead th {\n",
       "        text-align: right;\n",
       "    }\n",
       "</style>\n",
       "<table border=\"1\" class=\"dataframe\">\n",
       "  <thead>\n",
       "    <tr style=\"text-align: right;\">\n",
       "      <th></th>\n",
       "      <th>Id</th>\n",
       "      <th>SalePrice</th>\n",
       "    </tr>\n",
       "  </thead>\n",
       "  <tbody>\n",
       "    <tr>\n",
       "      <th>0</th>\n",
       "      <td>1260</td>\n",
       "      <td>149337.478288</td>\n",
       "    </tr>\n",
       "    <tr>\n",
       "      <th>1</th>\n",
       "      <td>1261</td>\n",
       "      <td>181200.676521</td>\n",
       "    </tr>\n",
       "    <tr>\n",
       "      <th>2</th>\n",
       "      <td>1262</td>\n",
       "      <td>135289.445715</td>\n",
       "    </tr>\n",
       "    <tr>\n",
       "      <th>3</th>\n",
       "      <td>1263</td>\n",
       "      <td>129913.254521</td>\n",
       "    </tr>\n",
       "    <tr>\n",
       "      <th>4</th>\n",
       "      <td>1264</td>\n",
       "      <td>161978.788920</td>\n",
       "    </tr>\n",
       "  </tbody>\n",
       "</table>\n",
       "</div>"
      ],
      "text/plain": [
       "     Id      SalePrice\n",
       "0  1260  149337.478288\n",
       "1  1261  181200.676521\n",
       "2  1262  135289.445715\n",
       "3  1263  129913.254521\n",
       "4  1264  161978.788920"
      ]
     },
     "execution_count": 20,
     "metadata": {},
     "output_type": "execute_result"
    }
   ],
   "source": [
    "results.head()"
   ]
  },
  {
   "cell_type": "code",
   "execution_count": 21,
   "id": "ecfb95a0",
   "metadata": {
    "execution": {
     "iopub.execute_input": "2021-10-15T10:38:32.994144Z",
     "iopub.status.busy": "2021-10-15T10:38:32.993247Z",
     "iopub.status.idle": "2021-10-15T10:38:33.001226Z",
     "shell.execute_reply": "2021-10-15T10:38:33.000551Z",
     "shell.execute_reply.started": "2021-10-15T10:15:30.768511Z"
    },
    "papermill": {
     "duration": 0.034074,
     "end_time": "2021-10-15T10:38:33.001391",
     "exception": false,
     "start_time": "2021-10-15T10:38:32.967317",
     "status": "completed"
    },
    "tags": []
   },
   "outputs": [],
   "source": [
    "results.to_csv('submissions.csv', index=False)"
   ]
  },
  {
   "cell_type": "code",
   "execution_count": null,
   "id": "483e4802",
   "metadata": {
    "papermill": {
     "duration": 0.023495,
     "end_time": "2021-10-15T10:38:33.047995",
     "exception": false,
     "start_time": "2021-10-15T10:38:33.024500",
     "status": "completed"
    },
    "tags": []
   },
   "outputs": [],
   "source": []
  }
 ],
 "metadata": {
  "kernelspec": {
   "display_name": "Python 3",
   "language": "python",
   "name": "python3"
  },
  "language_info": {
   "codemirror_mode": {
    "name": "ipython",
    "version": 3
   },
   "file_extension": ".py",
   "mimetype": "text/x-python",
   "name": "python",
   "nbconvert_exporter": "python",
   "pygments_lexer": "ipython3",
   "version": "3.7.10"
  },
  "papermill": {
   "default_parameters": {},
   "duration": 19.826192,
   "end_time": "2021-10-15T10:38:34.522779",
   "environment_variables": {},
   "exception": null,
   "input_path": "__notebook__.ipynb",
   "output_path": "__notebook__.ipynb",
   "parameters": {},
   "start_time": "2021-10-15T10:38:14.696587",
   "version": "2.3.3"
  }
 },
 "nbformat": 4,
 "nbformat_minor": 5
}
